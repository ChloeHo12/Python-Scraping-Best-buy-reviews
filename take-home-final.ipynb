{
 "cells": [
  {
   "cell_type": "markdown",
   "metadata": {},
   "source": [
    "# Data 200: Database Systems and Data Management for Data Analytics\n"
   ]
  },
  {
   "cell_type": "markdown",
   "metadata": {},
   "source": [
    "# Take-Home Final Exam\n",
    "\n",
    "**Dickinson College**<br/>\n",
    "**Fall 2022**<br/>\n",
    "Prof. Eren Bilen<br/>\n",
    "<font color='red'>**Due Date:** Friday December 16, 12pm (noon) </font>\n",
    "---\n",
    "Enter your name in the markdown cell below."
   ]
  },
  {
   "cell_type": "markdown",
   "metadata": {},
   "source": [
    "# Name: Chloe Ho"
   ]
  },
  {
   "cell_type": "code",
   "execution_count": 366,
   "metadata": {},
   "outputs": [],
   "source": [
    "from selenium import webdriver\n",
    "import pandas as pd\n",
    "import re\n",
    "import time \n",
    "import random\n",
    "import matplotlib.pyplot as plt"
   ]
  },
  {
   "cell_type": "markdown",
   "metadata": {},
   "source": [
    "# Scraping task"
   ]
  },
  {
   "cell_type": "markdown",
   "metadata": {},
   "source": [
    "On this exam, you will scrape reviews from BestBuy.com. The item for which you will scrape reviews for will depend on the first letter of your last name. Check the table below (both letters inclusive) for your assigned item:\n",
    "\n",
    "|First letter of your last name | Item/link to reviews on BestBuy.com\n",
    "| :---        |    :---   |\n",
    "|A-G | https://www.bestbuy.com/site/reviews/microsoft-xbox-series-x-1tb-console-black/6428324?variant=A&skuId=6428324\n",
    "|H-M | https://www.bestbuy.com/site/reviews/apple-airpods-with-charging-case-2nd-generation-white/6084400?variant=A&skuId=6084400\n",
    "|N-S | https://www.bestbuy.com/site/reviews/samsung-65-class-7-series-led-4k-uhd-smart-tizen-tv/6401722?variant=A&skuId=6401722\n",
    "|T-Z | https://www.bestbuy.com/site/reviews/nintendo-switch-32gb-lite-turquoise/6257139?variant=A&skuId=6257139\n"
   ]
  },
  {
   "cell_type": "markdown",
   "metadata": {},
   "source": [
    "Your goal is to scrape 2,000 reviews that were posted in the reviews page of your assigned item. The format of your output should be a dataframe with the following columns/format:\n",
    "<br>\n",
    "![title](ss1.png)"
   ]
  },
  {
   "cell_type": "markdown",
   "metadata": {},
   "source": [
    "where\n",
    "```\n",
    "username: the user name of the reviewer\n",
    "review: the review content\n",
    "rating: the rating (out of 5) left by the reviewer\n",
    "helpful: the number of votes received on the review indicating that the review is helpful\n",
    "unhelpful: the number of votes received on the review indicating that the review is unhelpful\n",
    "net: |helpful - unhelpful| i.e., the absolute value of the difference between \"helpful\" and \"unhelpful\" votes\n",
    "nethelpful: helpful - unhelpful i.e., the difference between \"helpful\" and \"unhelpful\" votes\n",
    "total: total number of votes (helpful + unhelpful) received\n",
    "length: length of the review, defined as the number of characters in a review (including whitespace)\n",
    "```"
   ]
  },
  {
   "cell_type": "markdown",
   "metadata": {},
   "source": [
    "Include the `.ipynb` and `.md` versions of your work + the following two scatterplots as part of your output. Comment on what you observe from the scatterplots. Are you surprised?\n",
    "* scatterplot with `length` on the x axis, `total` on the y axis\n",
    "* scatterplot with `length` on the x axis, `nethelpful` on the y axis\n",
    "\n",
    "Commit and push on Github once you finish."
   ]
  },
  {
   "cell_type": "markdown",
   "metadata": {},
   "source": [
    "Hints: \n",
    "* You will need to scrape multiple pages. Make sure to wait at least 2 seconds between each page, e.g., using `time.sleep(random.uniform(2, 3))`.\n",
    "* Trim away `\\n` from review strings as it contains no useful information, and can cause bugs in regex.\n",
    "* Make sure to get the position of the \"next Page\" button, as its position can change dynamically depending on the page number."
   ]
  },
  {
   "cell_type": "markdown",
   "metadata": {},
   "source": [
    "Good luck!"
   ]
  },
  {
   "cell_type": "code",
   "execution_count": 367,
   "metadata": {},
   "outputs": [
    {
     "name": "stderr",
     "output_type": "stream",
     "text": [
      "/var/folders/2f/00sdrmc55c31t4b6_w_60sl80000gn/T/ipykernel_5327/1548921077.py:1: DeprecationWarning: executable_path has been deprecated, please pass in a Service object\n",
      "  driver = webdriver.Chrome('/Users/hochl/Downloads/chromedriver')\n"
     ]
    }
   ],
   "source": [
    "driver = webdriver.Chrome('/Users/hochl/Downloads/chromedriver')"
   ]
  },
  {
   "cell_type": "code",
   "execution_count": 368,
   "metadata": {},
   "outputs": [],
   "source": [
    "driver.get('https://www.bestbuy.com/site/reviews/apple-airpods-with-charging-case-2nd-generation-white/6084400?variant=A&skuId=6084400')"
   ]
  },
  {
   "cell_type": "code",
   "execution_count": 381,
   "metadata": {},
   "outputs": [],
   "source": [
    "def get_reviewid():\n",
    "    # get comment ids that appear on the page\n",
    "    ids = driver.find_elements('xpath',\"//*[contains(@id,'ugc-line-clamp-reviews-')]\")\n",
    "    review_ids = []\n",
    "    for i in ids:\n",
    "        review_ids.append(i.get_attribute('id'))\n",
    "    return review_ids\n",
    "\n",
    "def get_reviews():\n",
    "\n",
    "    reviews = []\n",
    "    n=1\n",
    "\n",
    "    for x in review_ids:\n",
    "        # Extract username from each user\n",
    "        username_element = driver.find_element(\"xpath\", \"//*[@id='reviews-accordion']/div[1]/ul/li[\"+str(n)+\"]/div/div[2]/div[2]/div[1]/span/span/button/div/strong\")\n",
    "        username = username_element.text\n",
    "\n",
    "        # Extract review\n",
    "        review_element = driver.find_element(\"xpath\", '//*[@id=\"'+x+'\"]')\n",
    "        review = review_element.text.strip(\"\\n\")\n",
    "        \n",
    "        # Extract rating \n",
    "        rating_element = driver.find_element(\"xpath\", \"//*[@id='reviews-accordion']/div[1]/ul/li[\"+str(n)+\"]/div/div[2]/div[1]/div\")\n",
    "        rating = rating_element.text\n",
    "        rating = re.findall(\"\\d\", rating)[0]\n",
    "\n",
    "        # Extract helpful votes\n",
    "        helpful_element = driver.find_element(\"xpath\", \"//*[@id='reviews-accordion']/div[1]/ul/li[\"+str(n)+\"]/div/div[2]/div[6]/div/div/div[1]/button[1]\")\n",
    "        helpful = helpful_element.text\n",
    "        helpful = re.findall(\"\\d+\", helpful)[0]\n",
    "\n",
    "        # Extract unhelpful votes\n",
    "        unhelpful_element = driver.find_element(\"xpath\", \"//*[@id='reviews-accordion']/div[1]/ul/li[\"+str(n)+\"]/div/div[2]/div[6]/div/div/div[1]/button[2]\")\n",
    "        unhelpful = unhelpful_element.text\n",
    "        unhelpful = re.findall(\"\\d+\", unhelpful)[0]\n",
    "\n",
    "        # Take absolute value of the difference between \"helpful\" and \"unhelpful\" votes\n",
    "        net = abs(int(helpful) - int(unhelpful))\n",
    "\n",
    "        # Take the difference between \"helpful\" and \"unhelpful\" votes\n",
    "        nethelpful = int(helpful) - int(unhelpful)\n",
    "\n",
    "        # Total number of votes (helpful + unhelpful) received\n",
    "        total = int(helpful) + int(unhelpful)\n",
    "        \n",
    "        # The length of the review\n",
    "        length = len(review)\n",
    "        \n",
    "        reviews.append([username,review,rating,helpful,unhelpful,net,nethelpful,total,length])\n",
    "        \n",
    "        n+=1\n",
    "    \n",
    "    return reviews\n",
    "\n",
    "def get_loc():\n",
    "    num = len(driver.find_element('xpath','//*[@id=\"reviews-accordion\"]').text.split('\\n'))\n",
    "    attributes = []\n",
    "    location = []\n",
    "    for m in range(20):\n",
    "        try:\n",
    "            attributes.append(driver.find_element('xpath',\"//*[@id='reviews-accordion']/div[2]/div/div[2]/ul/li[\"+str(m)+\"]/a\") \\\n",
    "                              .get_attribute('title'))\n",
    "            if driver.find_element('xpath',\"//*[@id='reviews-accordion']/div[2]/div/div[2]/ul/li[\"+str(m)+\"]/a\") \\\n",
    "                              .get_attribute('title') == 'next Page':\n",
    "                location.append(m)\n",
    "            return location[0]\n",
    "        except:\n",
    "            attributes.append('.')"
   ]
  },
  {
   "cell_type": "code",
   "execution_count": 382,
   "metadata": {},
   "outputs": [
    {
     "data": {
      "text/plain": [
       "273"
      ]
     },
     "execution_count": 382,
     "metadata": {},
     "output_type": "execute_result"
    }
   ],
   "source": [
    "num = len(driver.find_element('xpath','//*[@id=\"reviews-accordion\"]').text.split('\\n'))\n",
    "num"
   ]
  },
  {
   "cell_type": "code",
   "execution_count": null,
   "metadata": {},
   "outputs": [],
   "source": [
    "df_out = pd.DataFrame()\n",
    "\n",
    "for j in range(105):\n",
    "    \n",
    "    try:\n",
    "\n",
    "        # get comment ids\n",
    "        review_ids = get_reviewid()\n",
    "\n",
    "        # get comments\n",
    "        reviews = get_reviews()\n",
    "\n",
    "        # df with the current page data\n",
    "        df = pd.DataFrame(reviews,columns=['username','review','rating','helpful','unhelpful','net','nethelpful','total','length'])\n",
    "\n",
    "        # df_out with the entire data\n",
    "        df_out = pd.concat([df_out,df])\n",
    "\n",
    "        # wait between 2-3 second\n",
    "        time.sleep(random.uniform(2,3))\n",
    "\n",
    "        # find the location of the next page button, then click on it!\n",
    "        button = driver.find_element('xpath','//*[@title=\"next Page\"]')\n",
    "        button.click()\n",
    "    \n",
    "    except: \n",
    "        pass\n",
    "\n",
    "    "
   ]
  },
  {
   "cell_type": "code",
   "execution_count": null,
   "metadata": {},
   "outputs": [],
   "source": [
    "df_out.reset_index(drop=True)"
   ]
  },
  {
   "cell_type": "code",
   "execution_count": null,
   "metadata": {},
   "outputs": [],
   "source": [
    "plt.figure(figsize=(7,4)) # change figure size\n",
    "\n",
    "plt.scatter(df_out.length, df_out.total, alpha=0.5, color = 'blue')\n",
    "plt.title(\"Scatter plot of Review Length and Total Number of Votes\")\n",
    "\n",
    "plt.xlabel('Review length')\n",
    "plt.ylabel('Total votes')\n",
    "\n",
    "plt.show()"
   ]
  },
  {
   "cell_type": "code",
   "execution_count": null,
   "metadata": {},
   "outputs": [],
   "source": [
    "plt.figure(figsize=(7,4)) # change figure size\n",
    "\n",
    "plt.scatter(df_out.length, df_out.nethelpful, alpha=0.5)\n",
    "plt.title(\"Scatter plot of Review Length and Review Net Helpful\")\n",
    "\n",
    "plt.xlabel('Review length')\n",
    "plt.ylabel('Net helpful')\n",
    "\n",
    "plt.show()"
   ]
  },
  {
   "cell_type": "markdown",
   "metadata": {},
   "source": [
    "The scatter plot shows that there is no linear relationship between the length of the review and the total of votes  received by the review/nethelpful indicator. There are quite a few outliers: a review has more than 4000 characters but received 0 votes and 0 nethelpful while a-less-than-1000-character review receives around 550 total votes & more than 200 nethelpful scores. Most of the reviews receive 0 to 50 total votes and the average nethelpful score is 0."
   ]
  }
 ],
 "metadata": {
  "celltoolbar": "Raw Cell Format",
  "kernelspec": {
   "display_name": "Python 3 (ipykernel)",
   "language": "python",
   "name": "python3"
  },
  "language_info": {
   "codemirror_mode": {
    "name": "ipython",
    "version": 3
   },
   "file_extension": ".py",
   "mimetype": "text/x-python",
   "name": "python",
   "nbconvert_exporter": "python",
   "pygments_lexer": "ipython3",
   "version": "3.9.12"
  }
 },
 "nbformat": 4,
 "nbformat_minor": 2
}
