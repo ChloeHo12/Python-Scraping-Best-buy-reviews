{
 "cells": [
  {
   "cell_type": "markdown",
   "metadata": {},
   "source": [
    "# Data 200: Database Systems and Data Management for Data Analytics\n"
   ]
  },
  {
   "cell_type": "markdown",
   "metadata": {},
   "source": [
    "# Name: Chloe Ho"
   ]
  },
  {
   "cell_type": "code",
   "execution_count": 2,
   "metadata": {},
   "outputs": [],
   "source": [
    "from selenium import webdriver\n",
    "import pandas as pd\n",
    "import re\n",
    "import time \n",
    "import random\n",
    "import matplotlib.pyplot as plt"
   ]
  },
  {
   "cell_type": "markdown",
   "metadata": {},
   "source": [
    "# Scraping task"
   ]
  },
  {
   "cell_type": "markdown",
   "metadata": {},
   "source": [
    "I will scrape reviews from BestBuy.com. This is the link to the item that I am going to scrape:\n",
    "\n",
    "`https://www.bestbuy.com/site/reviews/apple-airpods-with-charging-case-2nd-generation-white/6084400?variant=A&skuId=6084400`\n"
   ]
  },
  {
   "cell_type": "markdown",
   "metadata": {},
   "source": [
    "My goal is to scrape 1,000 reviews that were posted in the reviews page of my assigned item. The format of my output should be a dataframe with the following columns/format:\n",
    "\n",
    "```\n",
    "username: the user name of the reviewer\n",
    "review: the review content\n",
    "rating: the rating (out of 5) left by the reviewer\n",
    "helpful: the number of votes received on the review indicating that the review is helpful\n",
    "unhelpful: the number of votes received on the review indicating that the review is unhelpful\n",
    "net: |helpful - unhelpful| i.e., the absolute value of the difference between \"helpful\" and \"unhelpful\" votes\n",
    "nethelpful: helpful - unhelpful i.e., the difference between \"helpful\" and \"unhelpful\" votes\n",
    "total: total number of votes (helpful + unhelpful) received\n",
    "length: length of the review, defined as the number of characters in a review (including whitespace)\n",
    "```"
   ]
  },
  {
   "cell_type": "markdown",
   "metadata": {},
   "source": [
    "I will also include the `.ipynb` and `.md` versions of my work + the following two scatterplots as part of my output. \n",
    "* scatterplot with `length` on the x axis, `total` on the y axis\n",
    "* scatterplot with `length` on the x axis, `nethelpful` on the y axis"
   ]
  },
  {
   "cell_type": "code",
   "execution_count": 3,
   "metadata": {},
   "outputs": [
    {
     "name": "stderr",
     "output_type": "stream",
     "text": [
      "/var/folders/2f/00sdrmc55c31t4b6_w_60sl80000gn/T/ipykernel_9328/1548921077.py:1: DeprecationWarning: executable_path has been deprecated, please pass in a Service object\n",
      "  driver = webdriver.Chrome('/Users/hochl/Downloads/chromedriver')\n"
     ]
    }
   ],
   "source": [
    "driver = webdriver.Chrome('/Users/hochl/Downloads/chromedriver')"
   ]
  },
  {
   "cell_type": "code",
   "execution_count": 4,
   "metadata": {},
   "outputs": [],
   "source": [
    "driver.get('https://www.bestbuy.com/site/reviews/apple-airpods-with-charging-case-2nd-generation-white/6084400?variant=A&skuId=6084400')"
   ]
  },
  {
   "cell_type": "code",
   "execution_count": 13,
   "metadata": {},
   "outputs": [],
   "source": [
    "def get_reviewid():\n",
    "    # get comment ids that appear on the page\n",
    "    ids = driver.find_elements('xpath',\"//*[contains(@id,'ugc-line-clamp-reviews-')]\")\n",
    "    review_ids = []\n",
    "    for i in ids:\n",
    "        review_ids.append(i.get_attribute('id'))\n",
    "    return review_ids\n",
    "\n",
    "def get_reviews():\n",
    "\n",
    "    reviews = []\n",
    "    n=1\n",
    "\n",
    "    for x in review_ids:\n",
    "        # Extract username from each user\n",
    "        username_element = driver.find_element(\"xpath\", \"//*[@id='reviews-accordion']/div[1]/ul/li[\"+str(n)+\"]/div/div[2]/div[2]/div[1]/span/span/button\")\n",
    "        username = username_element.text\n",
    "\n",
    "        # Extract review\n",
    "        review_element = driver.find_element(\"xpath\", '//*[@id=\"'+x+'\"]')\n",
    "        review = review_element.text.strip(\"\\n\")\n",
    "        \n",
    "        # Extract rating \n",
    "        rating_element = driver.find_element(\"xpath\", \"//*[@id='reviews-accordion']/div[1]/ul/li[\"+str(n)+\"]/div/div[2]/div[1]/div\")\n",
    "        rating = rating_element.text\n",
    "        rating = re.findall(\"\\d\", rating)[0]\n",
    "\n",
    "        # Extract helpful votes\n",
    "        helpful_element = driver.find_element(\"xpath\", \"//*[@id='reviews-accordion']/div[1]/ul/li[\"+str(n)+\"]/div/div[2]/div[6]/div/div/div[1]/button[1]\")\n",
    "        helpful = helpful_element.text\n",
    "        helpful = re.findall(\"\\d+\", helpful)[0]\n",
    "\n",
    "        # Extract unhelpful votes\n",
    "        unhelpful_element = driver.find_element(\"xpath\", \"//*[@id='reviews-accordion']/div[1]/ul/li[\"+str(n)+\"]/div/div[2]/div[6]/div/div/div[1]/button[2]\")\n",
    "        unhelpful = unhelpful_element.text\n",
    "        unhelpful = re.findall(\"\\d+\", unhelpful)[0]\n",
    "\n",
    "        # Take absolute value of the difference between \"helpful\" and \"unhelpful\" votes\n",
    "        net = abs(int(helpful) - int(unhelpful))\n",
    "\n",
    "        # Take the difference between \"helpful\" and \"unhelpful\" votes\n",
    "        nethelpful = int(helpful) - int(unhelpful)\n",
    "\n",
    "        # Total number of votes (helpful + unhelpful) received\n",
    "        total = int(helpful) + int(unhelpful)\n",
    "        \n",
    "        # The length of the review\n",
    "        length = len(review)\n",
    "        \n",
    "        reviews.append([username,review,rating,helpful,unhelpful,net,nethelpful,total,length])\n",
    "        \n",
    "        n+=1\n",
    "    \n",
    "    return reviews\n",
    "\n",
    "def get_loc():\n",
    "    num = len(driver.find_element('xpath','//*[@id=\"reviews-accordion\"]').text.split('\\n'))\n",
    "    attributes = []\n",
    "    location = []\n",
    "    for m in range(20):\n",
    "        try:\n",
    "            attributes.append(driver.find_element('xpath',\"//*[@id='reviews-accordion']/div[2]/div/div[2]/ul/li[\"+str(m)+\"]/a\") \\\n",
    "                              .get_attribute('title'))\n",
    "            if driver.find_element('xpath',\"//*[@id='reviews-accordion']/div[2]/div/div[2]/ul/li[\"+str(m)+\"]/a\") \\\n",
    "                              .get_attribute('title') == 'next Page':\n",
    "                location.append(m)\n",
    "            return location[0]\n",
    "        except:\n",
    "            attributes.append('.')"
   ]
  },
  {
   "cell_type": "code",
   "execution_count": 14,
   "metadata": {},
   "outputs": [
    {
     "data": {
      "text/plain": [
       "273"
      ]
     },
     "execution_count": 14,
     "metadata": {},
     "output_type": "execute_result"
    }
   ],
   "source": [
    "num = len(driver.find_element('xpath','//*[@id=\"reviews-accordion\"]').text.split('\\n'))\n",
    "num"
   ]
  },
  {
   "cell_type": "code",
   "execution_count": 15,
   "metadata": {},
   "outputs": [],
   "source": [
    "df_out = pd.DataFrame()\n",
    "\n",
    "for j in range(50):\n",
    "    \n",
    "    try:\n",
    "\n",
    "        # get comment ids\n",
    "        review_ids = get_reviewid()\n",
    "\n",
    "        # get comments\n",
    "        reviews = get_reviews()\n",
    "\n",
    "        # df with the current page data\n",
    "        df = pd.DataFrame(reviews,columns=['username','review','rating','helpful','unhelpful','net','nethelpful','total','length'])\n",
    "\n",
    "        # df_out with the entire data\n",
    "        df_out = pd.concat([df_out,df])\n",
    "\n",
    "        # wait between 2-5 second\n",
    "        time.sleep(random.uniform(2,5))\n",
    "\n",
    "        # find the location of the next page button, then click on it!\n",
    "        button = driver.find_element('xpath','//*[@title=\"next Page\"]')\n",
    "        button.click()\n",
    "    \n",
    "    except: \n",
    "        print('Error!')\n",
    "\n",
    "    "
   ]
  },
  {
   "cell_type": "code",
   "execution_count": 16,
   "metadata": {},
   "outputs": [
    {
     "data": {
      "text/html": [
       "<div>\n",
       "<style scoped>\n",
       "    .dataframe tbody tr th:only-of-type {\n",
       "        vertical-align: middle;\n",
       "    }\n",
       "\n",
       "    .dataframe tbody tr th {\n",
       "        vertical-align: top;\n",
       "    }\n",
       "\n",
       "    .dataframe thead th {\n",
       "        text-align: right;\n",
       "    }\n",
       "</style>\n",
       "<table border=\"1\" class=\"dataframe\">\n",
       "  <thead>\n",
       "    <tr style=\"text-align: right;\">\n",
       "      <th></th>\n",
       "      <th>username</th>\n",
       "      <th>review</th>\n",
       "      <th>rating</th>\n",
       "      <th>helpful</th>\n",
       "      <th>unhelpful</th>\n",
       "      <th>net</th>\n",
       "      <th>nethelpful</th>\n",
       "      <th>total</th>\n",
       "      <th>length</th>\n",
       "    </tr>\n",
       "  </thead>\n",
       "  <tbody>\n",
       "    <tr>\n",
       "      <th>0</th>\n",
       "      <td>MKLight</td>\n",
       "      <td>I’ve been purchasing Plantronics Bluetooth ear...</td>\n",
       "      <td>5</td>\n",
       "      <td>295</td>\n",
       "      <td>137</td>\n",
       "      <td>158</td>\n",
       "      <td>158</td>\n",
       "      <td>432</td>\n",
       "      <td>869</td>\n",
       "    </tr>\n",
       "    <tr>\n",
       "      <th>1</th>\n",
       "      <td>Gabby</td>\n",
       "      <td>Don’t listen to any one that says the AirPods ...</td>\n",
       "      <td>5</td>\n",
       "      <td>5</td>\n",
       "      <td>1</td>\n",
       "      <td>4</td>\n",
       "      <td>4</td>\n",
       "      <td>6</td>\n",
       "      <td>231</td>\n",
       "    </tr>\n",
       "    <tr>\n",
       "      <th>2</th>\n",
       "      <td>Lookbeforebuying</td>\n",
       "      <td>Has a lot of bass! I should’ve got these in th...</td>\n",
       "      <td>5</td>\n",
       "      <td>39</td>\n",
       "      <td>7</td>\n",
       "      <td>32</td>\n",
       "      <td>32</td>\n",
       "      <td>46</td>\n",
       "      <td>517</td>\n",
       "    </tr>\n",
       "    <tr>\n",
       "      <th>3</th>\n",
       "      <td>Kay08</td>\n",
       "      <td>They are very convenient especially when I’m w...</td>\n",
       "      <td>5</td>\n",
       "      <td>110</td>\n",
       "      <td>45</td>\n",
       "      <td>65</td>\n",
       "      <td>65</td>\n",
       "      <td>155</td>\n",
       "      <td>619</td>\n",
       "    </tr>\n",
       "    <tr>\n",
       "      <th>4</th>\n",
       "      <td>WhitS</td>\n",
       "      <td>My new Airpods are incredible.  They work grea...</td>\n",
       "      <td>5</td>\n",
       "      <td>0</td>\n",
       "      <td>0</td>\n",
       "      <td>0</td>\n",
       "      <td>0</td>\n",
       "      <td>0</td>\n",
       "      <td>189</td>\n",
       "    </tr>\n",
       "    <tr>\n",
       "      <th>...</th>\n",
       "      <td>...</td>\n",
       "      <td>...</td>\n",
       "      <td>...</td>\n",
       "      <td>...</td>\n",
       "      <td>...</td>\n",
       "      <td>...</td>\n",
       "      <td>...</td>\n",
       "      <td>...</td>\n",
       "      <td>...</td>\n",
       "    </tr>\n",
       "    <tr>\n",
       "      <th>975</th>\n",
       "      <td>KendrelT</td>\n",
       "      <td>These AirPods were great ! They work great i l...</td>\n",
       "      <td>5</td>\n",
       "      <td>0</td>\n",
       "      <td>0</td>\n",
       "      <td>0</td>\n",
       "      <td>0</td>\n",
       "      <td>0</td>\n",
       "      <td>54</td>\n",
       "    </tr>\n",
       "    <tr>\n",
       "      <th>976</th>\n",
       "      <td>Nikki</td>\n",
       "      <td>Work just like the advertisement. Perfect ! Th...</td>\n",
       "      <td>5</td>\n",
       "      <td>0</td>\n",
       "      <td>0</td>\n",
       "      <td>0</td>\n",
       "      <td>0</td>\n",
       "      <td>0</td>\n",
       "      <td>55</td>\n",
       "    </tr>\n",
       "    <tr>\n",
       "      <th>977</th>\n",
       "      <td>xTristanx</td>\n",
       "      <td>So, I already had a pair of airpods that were ...</td>\n",
       "      <td>5</td>\n",
       "      <td>6</td>\n",
       "      <td>0</td>\n",
       "      <td>6</td>\n",
       "      <td>6</td>\n",
       "      <td>6</td>\n",
       "      <td>810</td>\n",
       "    </tr>\n",
       "    <tr>\n",
       "      <th>978</th>\n",
       "      <td>Tukayo</td>\n",
       "      <td>Easy to use, good sound. Fits ear well. Would ...</td>\n",
       "      <td>5</td>\n",
       "      <td>0</td>\n",
       "      <td>0</td>\n",
       "      <td>0</td>\n",
       "      <td>0</td>\n",
       "      <td>0</td>\n",
       "      <td>56</td>\n",
       "    </tr>\n",
       "    <tr>\n",
       "      <th>979</th>\n",
       "      <td>Beto</td>\n",
       "      <td>Very nice AirPods. I highly recommend these.!!...</td>\n",
       "      <td>5</td>\n",
       "      <td>0</td>\n",
       "      <td>0</td>\n",
       "      <td>0</td>\n",
       "      <td>0</td>\n",
       "      <td>0</td>\n",
       "      <td>74</td>\n",
       "    </tr>\n",
       "  </tbody>\n",
       "</table>\n",
       "<p>980 rows × 9 columns</p>\n",
       "</div>"
      ],
      "text/plain": [
       "             username                                             review  \\\n",
       "0             MKLight  I’ve been purchasing Plantronics Bluetooth ear...   \n",
       "1               Gabby  Don’t listen to any one that says the AirPods ...   \n",
       "2    Lookbeforebuying  Has a lot of bass! I should’ve got these in th...   \n",
       "3               Kay08  They are very convenient especially when I’m w...   \n",
       "4               WhitS  My new Airpods are incredible.  They work grea...   \n",
       "..                ...                                                ...   \n",
       "975          KendrelT  These AirPods were great ! They work great i l...   \n",
       "976             Nikki  Work just like the advertisement. Perfect ! Th...   \n",
       "977         xTristanx  So, I already had a pair of airpods that were ...   \n",
       "978            Tukayo  Easy to use, good sound. Fits ear well. Would ...   \n",
       "979              Beto  Very nice AirPods. I highly recommend these.!!...   \n",
       "\n",
       "    rating helpful unhelpful  net nethelpful total length  \n",
       "0        5     295       137  158        158   432    869  \n",
       "1        5       5         1    4          4     6    231  \n",
       "2        5      39         7   32         32    46    517  \n",
       "3        5     110        45   65         65   155    619  \n",
       "4        5       0         0    0          0     0    189  \n",
       "..     ...     ...       ...  ...        ...   ...    ...  \n",
       "975      5       0         0    0          0     0     54  \n",
       "976      5       0         0    0          0     0     55  \n",
       "977      5       6         0    6          6     6    810  \n",
       "978      5       0         0    0          0     0     56  \n",
       "979      5       0         0    0          0     0     74  \n",
       "\n",
       "[980 rows x 9 columns]"
      ]
     },
     "execution_count": 16,
     "metadata": {},
     "output_type": "execute_result"
    }
   ],
   "source": [
    "df_out.reset_index(drop=True)"
   ]
  },
  {
   "cell_type": "code",
   "execution_count": 17,
   "metadata": {},
   "outputs": [
    {
     "data": {
      "image/png": "[encoded data removed]",
      "text/plain": [
       "<Figure size 504x288 with 1 Axes>"
      ]
     },
     "metadata": {
      "needs_background": "light"
     },
     "output_type": "display_data"
    }
   ],
   "source": [
    "plt.figure(figsize=(7,4)) # change figure size\n",
    "\n",
    "plt.scatter(df_out.length, df_out.total, alpha=0.5, color = 'blue')\n",
    "plt.title(\"Scatter plot of Review Length and Total Number of Votes\")\n",
    "\n",
    "plt.xlabel('Review length')\n",
    "plt.ylabel('Total votes')\n",
    "\n",
    "plt.show()"
   ]
  },
  {
   "cell_type": "code",
   "execution_count": 18,
   "metadata": {},
   "outputs": [
    {
     "data": {
      "image/png": "[encoded data removed]",
      "text/plain": [
       "<Figure size 504x288 with 1 Axes>"
      ]
     },
     "metadata": {
      "needs_background": "light"
     },
     "output_type": "display_data"
    }
   ],
   "source": [
    "plt.figure(figsize=(7,4)) # change figure size\n",
    "\n",
    "plt.scatter(df_out.length, df_out.nethelpful, alpha=0.5)\n",
    "plt.title(\"Scatter plot of Review Length and Review Net Helpful\")\n",
    "\n",
    "plt.xlabel('Review length')\n",
    "plt.ylabel('Net helpful')\n",
    "\n",
    "plt.show()"
   ]
  },
  {
   "cell_type": "markdown",
   "metadata": {},
   "source": [
    "The scatter plot shows that there is no linear relationship between the length of the review and the total of votes  received by the review/nethelpful indicator. There are quite a few outliers: a review has more than 4000 characters but received 0 votes and 0 nethelpful while a-less-than-1000-character review receives around 550 total votes & more than 200 nethelpful scores. Most of the reviews receive 0 to 50 total votes and the average nethelpful score is 0."
   ]
  }
 ],
 "metadata": {
  "celltoolbar": "Raw Cell Format",
  "kernelspec": {
   "display_name": "Python 3 (ipykernel)",
   "language": "python",
   "name": "python3"
  },
  "language_info": {
   "codemirror_mode": {
    "name": "ipython",
    "version": 3
   },
   "file_extension": ".py",
   "mimetype": "text/x-python",
   "name": "python",
   "nbconvert_exporter": "python",
   "pygments_lexer": "ipython3",
   "version": "3.9.12"
  }
 },
 "nbformat": 4,
 "nbformat_minor": 2
}
